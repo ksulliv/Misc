{
 "cells": [
  {
   "cell_type": "code",
   "execution_count": 2,
   "id": "e9e7a210",
   "metadata": {},
   "outputs": [],
   "source": [
    "import numpy as np\n",
    "import pandas as pd"
   ]
  },
  {
   "cell_type": "code",
   "execution_count": 3,
   "id": "8b319575",
   "metadata": {
    "scrolled": true
   },
   "outputs": [
    {
     "data": {
      "text/plain": [
       "array([[1, 1, 1, 1, 1, 1, 1, 1, 1, 1],\n",
       "       [1, 0, 0, 0, 0, 0, 0, 0, 0, 1],\n",
       "       [1, 0, 0, 0, 0, 0, 0, 0, 0, 1],\n",
       "       [1, 0, 0, 0, 0, 0, 0, 0, 0, 1],\n",
       "       [1, 0, 0, 0, 0, 0, 0, 0, 0, 1],\n",
       "       [1, 0, 0, 0, 0, 0, 0, 0, 0, 1],\n",
       "       [1, 0, 0, 0, 0, 0, 0, 0, 0, 1],\n",
       "       [1, 0, 0, 0, 0, 0, 0, 0, 0, 1],\n",
       "       [1, 0, 0, 0, 0, 0, 0, 0, 0, 1],\n",
       "       [1, 1, 1, 1, 1, 1, 1, 1, 1, 1]], dtype=int64)"
      ]
     },
     "execution_count": 3,
     "metadata": {},
     "output_type": "execute_result"
    }
   ],
   "source": [
    "#Number 1\n",
    "zeros = np.zeros((10,10))\n",
    "zeros=zeros.astype(np.int64)\n",
    "zeros[0]=1\n",
    "zeros[9]=1\n",
    "zeros[:,0]=1\n",
    "zeros[:,9]=1\n",
    "zeros\n"
   ]
  },
  {
   "cell_type": "code",
   "execution_count": 19,
   "id": "2bfc4539",
   "metadata": {},
   "outputs": [
    {
     "data": {
      "text/plain": [
       "array([[0., 1., 0., 1., 0., 1., 0., 1., 0., 1.],\n",
       "       [1., 0., 1., 0., 1., 0., 1., 0., 1., 0.],\n",
       "       [0., 1., 0., 1., 0., 1., 0., 1., 0., 1.],\n",
       "       [1., 0., 1., 0., 1., 0., 1., 0., 1., 0.],\n",
       "       [0., 1., 0., 1., 0., 1., 0., 1., 0., 1.],\n",
       "       [1., 0., 1., 0., 1., 0., 1., 0., 1., 0.],\n",
       "       [0., 1., 0., 1., 0., 1., 0., 1., 0., 1.],\n",
       "       [1., 0., 1., 0., 1., 0., 1., 0., 1., 0.],\n",
       "       [0., 1., 0., 1., 0., 1., 0., 1., 0., 1.],\n",
       "       [1., 0., 1., 0., 1., 0., 1., 0., 1., 0.]])"
      ]
     },
     "execution_count": 19,
     "metadata": {},
     "output_type": "execute_result"
    }
   ],
   "source": [
    "#Number 2\n",
    "zeros = np.zeros((10,10))\n",
    "zeros[1::2,::2] = 1\n",
    "zeros[::2,1::2] = 1\n",
    "zeros"
   ]
  },
  {
   "cell_type": "code",
   "execution_count": 119,
   "id": "4b30db12",
   "metadata": {
    "scrolled": true
   },
   "outputs": [
    {
     "name": "stdout",
     "output_type": "stream",
     "text": [
      "[[[-0.01846485 -0.27545685 -0.93290847]\n",
      "  [ 0.8822582   0.70055279  0.4972205 ]\n",
      "  [ 2.00726107  0.00909301 -1.12455495]]\n",
      "\n",
      " [[ 0.55349821  0.9305139  -0.30296216]\n",
      "  [ 1.40202054  1.36225921  0.08757673]\n",
      "  [ 0.77363422 -2.13444724  1.16476292]]\n",
      "\n",
      " [[-2.17104493 -0.36952203  0.98659664]\n",
      "  [ 0.08771026 -0.54099972  1.37367724]\n",
      "  [-1.95295603 -0.77573744  0.85002391]]]\n"
     ]
    },
    {
     "data": {
      "text/plain": [
       "array([0.8822582 , 0.70055279, 0.4972205 , 2.00726107, 0.00909301,\n",
       "       0.55349821, 0.9305139 , 1.40202054, 1.36225921, 0.08757673,\n",
       "       0.77363422, 1.16476292, 0.98659664, 0.08771026, 1.37367724,\n",
       "       0.85002391])"
      ]
     },
     "execution_count": 119,
     "metadata": {},
     "output_type": "execute_result"
    }
   ],
   "source": [
    "#Number 3\n",
    "#return only positive numbers\n",
    "randomData = np.random.randn(3,3,3)\n",
    "print(randomData)\n",
    "\n",
    "x=randomData[(randomData > 0)]\n",
    "\n",
    "x"
   ]
  },
  {
   "cell_type": "code",
   "execution_count": 47,
   "id": "dbd65fd8",
   "metadata": {},
   "outputs": [
    {
     "name": "stdout",
     "output_type": "stream",
     "text": [
      "Max: 2.6746679256444614 ,Min: -2.6044712034354167 ,Range: 5.279139129079878\n"
     ]
    }
   ],
   "source": [
    "#Number 4\n",
    "x = np.random.randn(10,10)\n",
    "# print(x)\n",
    "xmax=x.max()\n",
    "xmin=x.min()\n",
    "xrange=xmax-xmin\n",
    "print(\"Max:\",xmax,\",Min:\",xmin,\",Range:\",xrange)\n"
   ]
  },
  {
   "cell_type": "code",
   "execution_count": 21,
   "id": "44658b30",
   "metadata": {},
   "outputs": [
    {
     "data": {
      "text/plain": [
       "array([[  1,   2,   3,   4,   5,   6,   7,   8,   9,  10,  11,  12],\n",
       "       [  2,   4,   6,   8,  10,  12,  14,  16,  18,  20,  22,  24],\n",
       "       [  3,   6,   9,  12,  15,  18,  21,  24,  27,  30,  33,  36],\n",
       "       [  4,   8,  12,  16,  20,  24,  28,  32,  36,  40,  44,  48],\n",
       "       [  5,  10,  15,  20,  25,  30,  35,  40,  45,  50,  55,  60],\n",
       "       [  6,  12,  18,  24,  30,  36,  42,  48,  54,  60,  66,  72],\n",
       "       [  7,  14,  21,  28,  35,  42,  49,  56,  63,  70,  77,  84],\n",
       "       [  8,  16,  24,  32,  40,  48,  56,  64,  72,  80,  88,  96],\n",
       "       [  9,  18,  27,  36,  45,  54,  63,  72,  81,  90,  99, 108],\n",
       "       [ 10,  20,  30,  40,  50,  60,  70,  80,  90, 100, 110, 120],\n",
       "       [ 11,  22,  33,  44,  55,  66,  77,  88,  99, 110, 121, 132],\n",
       "       [ 12,  24,  36,  48,  60,  72,  84,  96, 108, 120, 132, 144]],\n",
       "      dtype=int64)"
      ]
     },
     "execution_count": 21,
     "metadata": {},
     "output_type": "execute_result"
    }
   ],
   "source": [
    "#Number 5\n",
    "x = np.ones((12,12))\n",
    "# print(x)\n",
    "x = x.astype(np.int64)\n",
    "for i in range(0,12):\n",
    "    for j in range(0,12):\n",
    "        x[i,j] = x[i,j]*(i + 1)*(j + 1)\n",
    "x"
   ]
  },
  {
   "cell_type": "code",
   "execution_count": 25,
   "id": "9fda63bd",
   "metadata": {},
   "outputs": [
    {
     "data": {
      "text/plain": [
       "store-bought pie-crust        1 package\n",
       "light brown sugar                 1 cup\n",
       "all-purpose flour          1 tablespoon\n",
       "salt                       1/2 teaspoon\n",
       "ground cinnamon              1 teaspoon\n",
       "ground ginger                1 teaspoon\n",
       "ground nutmeg              1/2 teaspoon\n",
       "ground cloves              1/8 teaspoon\n",
       "large eggs                            3\n",
       "pumpkin puree              15 ounce can\n",
       "evaporated milk               1 1/4 cup\n",
       "dtype: object"
      ]
     },
     "execution_count": 25,
     "metadata": {},
     "output_type": "execute_result"
    }
   ],
   "source": [
    "#Number 6\n",
    "recipe = pd.Series(['1 package','1 cup' ,'1 tablespoon','1/2 teaspoon', '1 teaspoon', '1 teaspoon','1/2 teaspoon',' 1/8 teaspoon',\n",
    "                    '3', '15 ounce can','1 1/4 cup'], \n",
    "                 index=['store-bought pie-crust','light brown sugar','all-purpose flour','salt','ground cinnamon',\n",
    "                    'ground ginger','ground nutmeg','ground cloves','large eggs','pumpkin puree','evaporated milk'])\n",
    "\n",
    "recipe"
   ]
  },
  {
   "cell_type": "code",
   "execution_count": 30,
   "id": "2e737ef3",
   "metadata": {},
   "outputs": [
    {
     "name": "stdout",
     "output_type": "stream",
     "text": [
      "All-purpose flour\n",
      "Evaporated milk\n",
      "Ground cinnamon\n",
      "Ground cloves\n",
      "Ground ginger\n",
      "Ground nutmeg\n",
      "Large eggs\n",
      "Light brown sugar\n",
      "Pumpkin puree\n",
      "Salt\n",
      "Store-bought pie-crust\n"
     ]
    }
   ],
   "source": [
    "#Number 7\n",
    "for i in range(len(recipe.index)):\n",
    "    x=recipe.sort_index()\n",
    "    print(x.index[i].capitalize())"
   ]
  },
  {
   "cell_type": "code",
   "execution_count": 46,
   "id": "0ec4bef9",
   "metadata": {},
   "outputs": [
    {
     "name": "stdout",
     "output_type": "stream",
     "text": [
      "store-bought pie-crust    5.00\n",
      "light brown sugar         1.00\n",
      "all-purpose flour         3.50\n",
      "salt                      0.99\n",
      "ground cinnamon           1.99\n",
      "ground ginger             1.99\n",
      "ground nutmeg             1.99\n",
      "ground cloves             1.99\n",
      "large eggs                2.99\n",
      "pumpkin puree             3.99\n",
      "evaporated milk           1.29\n",
      "dtype: float64\n",
      "Total price:          26.72\n",
      "Average price:        2.429090909090909\n",
      "Most expensive item:  store-bought pie-crust 3\n",
      "Least expensive item: salt  1/8 teaspoon\n"
     ]
    }
   ],
   "source": [
    "#Number 8\n",
    "#Get index from question 6\n",
    "recipe_prices = pd.Series([5,1 ,3.5,.99, 1.99,1.99,1.99,1.99,2.99, 3.99,1.29], index=recipe.index)\n",
    "\n",
    "print(recipe_prices)\n",
    "print(\"Total price:         \",recipe_prices.sum())\n",
    "print(\"Average price:       \", recipe_prices.mean())\n",
    "print(\"Most expensive item: \",recipe_prices.idxmax(),recipe.max())\n",
    "print(\"Least expensive item:\",recipe_prices.idxmin(),recipe.min())\n"
   ]
  },
  {
   "cell_type": "code",
   "execution_count": 36,
   "id": "314cc313",
   "metadata": {},
   "outputs": [
    {
     "data": {
      "text/plain": [
       "store-bought pie-crust    4.000\n",
       "light brown sugar         0.800\n",
       "all-purpose flour         2.800\n",
       "salt                      0.792\n",
       "ground cinnamon           1.592\n",
       "ground ginger             1.592\n",
       "ground nutmeg             1.592\n",
       "ground cloves             1.592\n",
       "large eggs                2.392\n",
       "pumpkin puree             3.192\n",
       "evaporated milk           1.032\n",
       "dtype: float64"
      ]
     },
     "execution_count": 36,
     "metadata": {},
     "output_type": "execute_result"
    }
   ],
   "source": [
    "#Number 9\n",
    "recipe_prices*.8"
   ]
  },
  {
   "cell_type": "code",
   "execution_count": 38,
   "id": "10b9f528",
   "metadata": {},
   "outputs": [
    {
     "data": {
      "text/html": [
       "<div>\n",
       "<style scoped>\n",
       "    .dataframe tbody tr th:only-of-type {\n",
       "        vertical-align: middle;\n",
       "    }\n",
       "\n",
       "    .dataframe tbody tr th {\n",
       "        vertical-align: top;\n",
       "    }\n",
       "\n",
       "    .dataframe thead th {\n",
       "        text-align: right;\n",
       "    }\n",
       "</style>\n",
       "<table border=\"1\" class=\"dataframe\">\n",
       "  <thead>\n",
       "    <tr style=\"text-align: right;\">\n",
       "      <th></th>\n",
       "      <th>ingredients</th>\n",
       "      <th>price</th>\n",
       "      <th>quantity</th>\n",
       "    </tr>\n",
       "  </thead>\n",
       "  <tbody>\n",
       "    <tr>\n",
       "      <th>1</th>\n",
       "      <td>store-bought pie-crust</td>\n",
       "      <td>5.00</td>\n",
       "      <td>NaN</td>\n",
       "    </tr>\n",
       "    <tr>\n",
       "      <th>2</th>\n",
       "      <td>light brown sugar</td>\n",
       "      <td>1.00</td>\n",
       "      <td>NaN</td>\n",
       "    </tr>\n",
       "    <tr>\n",
       "      <th>3</th>\n",
       "      <td>all-purpose flour</td>\n",
       "      <td>3.50</td>\n",
       "      <td>NaN</td>\n",
       "    </tr>\n",
       "    <tr>\n",
       "      <th>4</th>\n",
       "      <td>salt</td>\n",
       "      <td>0.99</td>\n",
       "      <td>NaN</td>\n",
       "    </tr>\n",
       "    <tr>\n",
       "      <th>5</th>\n",
       "      <td>ground cinnamon</td>\n",
       "      <td>1.99</td>\n",
       "      <td>NaN</td>\n",
       "    </tr>\n",
       "    <tr>\n",
       "      <th>6</th>\n",
       "      <td>ground ginger</td>\n",
       "      <td>1.99</td>\n",
       "      <td>NaN</td>\n",
       "    </tr>\n",
       "    <tr>\n",
       "      <th>7</th>\n",
       "      <td>ground nutmeg</td>\n",
       "      <td>1.99</td>\n",
       "      <td>NaN</td>\n",
       "    </tr>\n",
       "    <tr>\n",
       "      <th>8</th>\n",
       "      <td>ground cloves</td>\n",
       "      <td>1.99</td>\n",
       "      <td>NaN</td>\n",
       "    </tr>\n",
       "    <tr>\n",
       "      <th>9</th>\n",
       "      <td>large eggs</td>\n",
       "      <td>2.99</td>\n",
       "      <td>NaN</td>\n",
       "    </tr>\n",
       "    <tr>\n",
       "      <th>10</th>\n",
       "      <td>pumpkin puree</td>\n",
       "      <td>3.99</td>\n",
       "      <td>NaN</td>\n",
       "    </tr>\n",
       "    <tr>\n",
       "      <th>11</th>\n",
       "      <td>evaporated milk</td>\n",
       "      <td>1.29</td>\n",
       "      <td>NaN</td>\n",
       "    </tr>\n",
       "  </tbody>\n",
       "</table>\n",
       "</div>"
      ],
      "text/plain": [
       "               ingredients  price quantity\n",
       "1   store-bought pie-crust   5.00      NaN\n",
       "2        light brown sugar   1.00      NaN\n",
       "3        all-purpose flour   3.50      NaN\n",
       "4                     salt   0.99      NaN\n",
       "5          ground cinnamon   1.99      NaN\n",
       "6            ground ginger   1.99      NaN\n",
       "7            ground nutmeg   1.99      NaN\n",
       "8            ground cloves   1.99      NaN\n",
       "9               large eggs   2.99      NaN\n",
       "10           pumpkin puree   3.99      NaN\n",
       "11         evaporated milk   1.29      NaN"
      ]
     },
     "execution_count": 38,
     "metadata": {},
     "output_type": "execute_result"
    }
   ],
   "source": [
    "#Number 10\n",
    "data = {'ingredients':['store-bought pie-crust','light brown sugar','all-purpose flour','salt','ground cinnamon',\n",
    "                    'ground ginger','ground nutmeg','ground cloves','large eggs','pumpkin puree','evaporated milk'],\n",
    "       'price':[5,1 ,3.5,.99, 1.99, 1.99,1.99,1.99,2.99, 3.99,1.29]}\n",
    "df_recipe = pd.DataFrame(data, columns=['ingredients','price','quantity'], index=range(1,len(data['ingredients'])+1))\n",
    "df_recipe"
   ]
  },
  {
   "cell_type": "code",
   "execution_count": 39,
   "id": "83645dd0",
   "metadata": {},
   "outputs": [
    {
     "data": {
      "text/html": [
       "<div>\n",
       "<style scoped>\n",
       "    .dataframe tbody tr th:only-of-type {\n",
       "        vertical-align: middle;\n",
       "    }\n",
       "\n",
       "    .dataframe tbody tr th {\n",
       "        vertical-align: top;\n",
       "    }\n",
       "\n",
       "    .dataframe thead th {\n",
       "        text-align: right;\n",
       "    }\n",
       "</style>\n",
       "<table border=\"1\" class=\"dataframe\">\n",
       "  <thead>\n",
       "    <tr style=\"text-align: right;\">\n",
       "      <th></th>\n",
       "      <th>ingredients</th>\n",
       "      <th>price</th>\n",
       "      <th>quantity</th>\n",
       "    </tr>\n",
       "  </thead>\n",
       "  <tbody>\n",
       "    <tr>\n",
       "      <th>1</th>\n",
       "      <td>store-bought pie-crust</td>\n",
       "      <td>5.00</td>\n",
       "      <td>4</td>\n",
       "    </tr>\n",
       "    <tr>\n",
       "      <th>2</th>\n",
       "      <td>light brown sugar</td>\n",
       "      <td>1.00</td>\n",
       "      <td>2</td>\n",
       "    </tr>\n",
       "    <tr>\n",
       "      <th>3</th>\n",
       "      <td>all-purpose flour</td>\n",
       "      <td>3.50</td>\n",
       "      <td>5</td>\n",
       "    </tr>\n",
       "    <tr>\n",
       "      <th>4</th>\n",
       "      <td>salt</td>\n",
       "      <td>0.99</td>\n",
       "      <td>4</td>\n",
       "    </tr>\n",
       "    <tr>\n",
       "      <th>5</th>\n",
       "      <td>ground cinnamon</td>\n",
       "      <td>1.99</td>\n",
       "      <td>5</td>\n",
       "    </tr>\n",
       "    <tr>\n",
       "      <th>6</th>\n",
       "      <td>ground ginger</td>\n",
       "      <td>1.99</td>\n",
       "      <td>2</td>\n",
       "    </tr>\n",
       "    <tr>\n",
       "      <th>7</th>\n",
       "      <td>ground nutmeg</td>\n",
       "      <td>1.99</td>\n",
       "      <td>3</td>\n",
       "    </tr>\n",
       "    <tr>\n",
       "      <th>8</th>\n",
       "      <td>ground cloves</td>\n",
       "      <td>1.99</td>\n",
       "      <td>3</td>\n",
       "    </tr>\n",
       "    <tr>\n",
       "      <th>9</th>\n",
       "      <td>large eggs</td>\n",
       "      <td>2.99</td>\n",
       "      <td>2</td>\n",
       "    </tr>\n",
       "    <tr>\n",
       "      <th>10</th>\n",
       "      <td>pumpkin puree</td>\n",
       "      <td>3.99</td>\n",
       "      <td>5</td>\n",
       "    </tr>\n",
       "    <tr>\n",
       "      <th>11</th>\n",
       "      <td>evaporated milk</td>\n",
       "      <td>1.29</td>\n",
       "      <td>3</td>\n",
       "    </tr>\n",
       "  </tbody>\n",
       "</table>\n",
       "</div>"
      ],
      "text/plain": [
       "               ingredients  price quantity\n",
       "1   store-bought pie-crust   5.00        4\n",
       "2        light brown sugar   1.00        2\n",
       "3        all-purpose flour   3.50        5\n",
       "4                     salt   0.99        4\n",
       "5          ground cinnamon   1.99        5\n",
       "6            ground ginger   1.99        2\n",
       "7            ground nutmeg   1.99        3\n",
       "8            ground cloves   1.99        3\n",
       "9               large eggs   2.99        2\n",
       "10           pumpkin puree   3.99        5\n",
       "11         evaporated milk   1.29        3"
      ]
     },
     "execution_count": 39,
     "metadata": {},
     "output_type": "execute_result"
    }
   ],
   "source": [
    "#Number 11\n",
    "df_recipe.loc[[3,5,10],'quantity'] = 5\n",
    "df_recipe.loc[[9,2,6],'quantity'] = 2\n",
    "df_recipe.loc[[11,8,7],'quantity'] = 3\n",
    "df_recipe.loc[[4,1],'quantity'] = 4\n",
    "df_recipe"
   ]
  },
  {
   "cell_type": "code",
   "execution_count": 40,
   "id": "8b57637c",
   "metadata": {},
   "outputs": [
    {
     "data": {
      "text/html": [
       "<div>\n",
       "<style scoped>\n",
       "    .dataframe tbody tr th:only-of-type {\n",
       "        vertical-align: middle;\n",
       "    }\n",
       "\n",
       "    .dataframe tbody tr th {\n",
       "        vertical-align: top;\n",
       "    }\n",
       "\n",
       "    .dataframe thead th {\n",
       "        text-align: right;\n",
       "    }\n",
       "</style>\n",
       "<table border=\"1\" class=\"dataframe\">\n",
       "  <thead>\n",
       "    <tr style=\"text-align: right;\">\n",
       "      <th></th>\n",
       "      <th>ingredients</th>\n",
       "      <th>price</th>\n",
       "      <th>quantity</th>\n",
       "      <th>Total Price</th>\n",
       "    </tr>\n",
       "  </thead>\n",
       "  <tbody>\n",
       "    <tr>\n",
       "      <th>1</th>\n",
       "      <td>store-bought pie-crust</td>\n",
       "      <td>5.00</td>\n",
       "      <td>4</td>\n",
       "      <td>20.0</td>\n",
       "    </tr>\n",
       "    <tr>\n",
       "      <th>2</th>\n",
       "      <td>light brown sugar</td>\n",
       "      <td>1.00</td>\n",
       "      <td>2</td>\n",
       "      <td>2.0</td>\n",
       "    </tr>\n",
       "    <tr>\n",
       "      <th>3</th>\n",
       "      <td>all-purpose flour</td>\n",
       "      <td>3.50</td>\n",
       "      <td>5</td>\n",
       "      <td>17.5</td>\n",
       "    </tr>\n",
       "    <tr>\n",
       "      <th>4</th>\n",
       "      <td>salt</td>\n",
       "      <td>0.99</td>\n",
       "      <td>4</td>\n",
       "      <td>3.96</td>\n",
       "    </tr>\n",
       "    <tr>\n",
       "      <th>5</th>\n",
       "      <td>ground cinnamon</td>\n",
       "      <td>1.99</td>\n",
       "      <td>5</td>\n",
       "      <td>9.95</td>\n",
       "    </tr>\n",
       "    <tr>\n",
       "      <th>6</th>\n",
       "      <td>ground ginger</td>\n",
       "      <td>1.99</td>\n",
       "      <td>2</td>\n",
       "      <td>3.98</td>\n",
       "    </tr>\n",
       "    <tr>\n",
       "      <th>7</th>\n",
       "      <td>ground nutmeg</td>\n",
       "      <td>1.99</td>\n",
       "      <td>3</td>\n",
       "      <td>5.97</td>\n",
       "    </tr>\n",
       "    <tr>\n",
       "      <th>8</th>\n",
       "      <td>ground cloves</td>\n",
       "      <td>1.99</td>\n",
       "      <td>3</td>\n",
       "      <td>5.97</td>\n",
       "    </tr>\n",
       "    <tr>\n",
       "      <th>9</th>\n",
       "      <td>large eggs</td>\n",
       "      <td>2.99</td>\n",
       "      <td>2</td>\n",
       "      <td>5.98</td>\n",
       "    </tr>\n",
       "    <tr>\n",
       "      <th>10</th>\n",
       "      <td>pumpkin puree</td>\n",
       "      <td>3.99</td>\n",
       "      <td>5</td>\n",
       "      <td>19.95</td>\n",
       "    </tr>\n",
       "    <tr>\n",
       "      <th>11</th>\n",
       "      <td>evaporated milk</td>\n",
       "      <td>1.29</td>\n",
       "      <td>3</td>\n",
       "      <td>3.87</td>\n",
       "    </tr>\n",
       "  </tbody>\n",
       "</table>\n",
       "</div>"
      ],
      "text/plain": [
       "               ingredients  price quantity Total Price\n",
       "1   store-bought pie-crust   5.00        4        20.0\n",
       "2        light brown sugar   1.00        2         2.0\n",
       "3        all-purpose flour   3.50        5        17.5\n",
       "4                     salt   0.99        4        3.96\n",
       "5          ground cinnamon   1.99        5        9.95\n",
       "6            ground ginger   1.99        2        3.98\n",
       "7            ground nutmeg   1.99        3        5.97\n",
       "8            ground cloves   1.99        3        5.97\n",
       "9               large eggs   2.99        2        5.98\n",
       "10           pumpkin puree   3.99        5       19.95\n",
       "11         evaporated milk   1.29        3        3.87"
      ]
     },
     "execution_count": 40,
     "metadata": {},
     "output_type": "execute_result"
    }
   ],
   "source": [
    "#Number 12\n",
    "df_recipe['Total Price']=df_recipe['price']*df_recipe['quantity']\n",
    "df_recipe"
   ]
  },
  {
   "cell_type": "code",
   "execution_count": 44,
   "id": "298d306b",
   "metadata": {},
   "outputs": [],
   "source": [
    "#Number 13\n",
    "#open write method to create text file, not pandas\n",
    "# df_recipe.to_csv('pumpkin-pie-file.txt')\n",
    "recipe_file = open('pumpkin-pie-file.txt', 'w')\n",
    "recipe_file.write(df_recipe.to_string())\n",
    "recipe_file.close()"
   ]
  },
  {
   "cell_type": "code",
   "execution_count": 45,
   "id": "8f03528b",
   "metadata": {},
   "outputs": [],
   "source": [
    "#number 14\n",
    "df_recipe.to_csv('pumpkin-pie-file.csv')"
   ]
  }
 ],
 "metadata": {
  "kernelspec": {
   "display_name": "Python 3 (ipykernel)",
   "language": "python",
   "name": "python3"
  },
  "language_info": {
   "codemirror_mode": {
    "name": "ipython",
    "version": 3
   },
   "file_extension": ".py",
   "mimetype": "text/x-python",
   "name": "python",
   "nbconvert_exporter": "python",
   "pygments_lexer": "ipython3",
   "version": "3.9.7"
  }
 },
 "nbformat": 4,
 "nbformat_minor": 5
}
